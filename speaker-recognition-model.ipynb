{
 "cells": [
  {
   "cell_type": "code",
   "execution_count": 1,
   "metadata": {
    "_cell_guid": "b1076dfc-b9ad-4769-8c92-a6c4dae69d19",
    "_uuid": "8f2839f25d086af736a60e9eeb907d3b93b6e0e5",
    "execution": {
     "iopub.execute_input": "2023-03-30T13:02:32.042171Z",
     "iopub.status.busy": "2023-03-30T13:02:32.041151Z",
     "iopub.status.idle": "2023-03-30T13:02:32.102463Z",
     "shell.execute_reply": "2023-03-30T13:02:32.101467Z",
     "shell.execute_reply.started": "2023-03-30T13:02:32.042118Z"
    }
   },
   "outputs": [],
   "source": [
    "# This Python 3 environment comes with many helpful analytics libraries installed\n",
    "# It is defined by the kaggle/python Docker image: https://github.com/kaggle/docker-python\n",
    "# For example, here's several helpful packages to load\n",
    "\n",
    "import numpy as np # linear algebra\n",
    "import pandas as pd # data processing, CSV file I/O (e.g. pd.read_csv)\n",
    "\n",
    "# Input data files are available in the read-only \"../input/\" directory\n",
    "# For example, running this (by clicking run or pressing Shift+Enter) will list all files under the input directory\n",
    "\n",
    "import os\n",
    "\n",
    "\n",
    "# You can write up to 20GB to the current directory (/kaggle/working/) that gets preserved as output when you create a version using \"Save & Run All\" \n",
    "# You can also write temporary files to /kaggle/temp/, but they won't be saved outside of the current session"
   ]
  },
  {
   "cell_type": "code",
   "execution_count": 2,
   "metadata": {
    "execution": {
     "iopub.execute_input": "2023-03-30T13:02:32.106108Z",
     "iopub.status.busy": "2023-03-30T13:02:32.105853Z",
     "iopub.status.idle": "2023-03-30T13:02:52.691488Z",
     "shell.execute_reply": "2023-03-30T13:02:52.690386Z",
     "shell.execute_reply.started": "2023-03-30T13:02:32.106083Z"
    }
   },
   "outputs": [
    {
     "name": "stdout",
     "output_type": "stream",
     "text": [
      "Model: \"sequential\"\n",
      "_________________________________________________________________\n",
      " Layer (type)                Output Shape              Param #   \n",
      "=================================================================\n",
      " conv2d (Conv2D)             (None, 128, 2585, 32)     320       \n",
      "                                                                 \n",
      " max_pooling2d (MaxPooling2D  (None, 64, 1292, 32)     0         \n",
      " )                                                               \n",
      "                                                                 \n",
      " conv2d_1 (Conv2D)           (None, 64, 1292, 64)      18496     \n",
      "                                                                 \n",
      " max_pooling2d_1 (MaxPooling  (None, 32, 646, 64)      0         \n",
      " 2D)                                                             \n",
      "                                                                 \n",
      " conv2d_2 (Conv2D)           (None, 32, 646, 128)      73856     \n",
      "                                                                 \n",
      " max_pooling2d_2 (MaxPooling  (None, 16, 323, 128)     0         \n",
      " 2D)                                                             \n",
      "                                                                 \n",
      " conv2d_3 (Conv2D)           (None, 16, 323, 256)      295168    \n",
      "                                                                 \n",
      " global_max_pooling2d (Globa  (None, 256)              0         \n",
      " lMaxPooling2D)                                                  \n",
      "                                                                 \n",
      " dense (Dense)               (None, 256)               65792     \n",
      "                                                                 \n",
      " dense_1 (Dense)             (None, 128)               32896     \n",
      "                                                                 \n",
      " dense_2 (Dense)             (None, 50)                6450      \n",
      "                                                                 \n",
      "=================================================================\n",
      "Total params: 492,978\n",
      "Trainable params: 492,978\n",
      "Non-trainable params: 0\n",
      "_________________________________________________________________\n"
     ]
    }
   ],
   "source": [
    "# this loads in the model that was trained in the bottom of this but we have that commented out\n",
    "import tensorflow as tf\n",
    "import keras\n",
    "model = keras.models.load_model(\"/kaggle/input/numpy-in-txt-voices/voice-models\")\n",
    "model.summary()\n"
   ]
  },
  {
   "cell_type": "code",
   "execution_count": 3,
   "metadata": {
    "execution": {
     "iopub.execute_input": "2023-03-30T13:08:54.662641Z",
     "iopub.status.busy": "2023-03-30T13:08:54.662127Z",
     "iopub.status.idle": "2023-03-30T13:08:54.695144Z",
     "shell.execute_reply": "2023-03-30T13:08:54.694436Z",
     "shell.execute_reply.started": "2023-03-30T13:08:54.662593Z"
    }
   },
   "outputs": [
    {
     "name": "stdout",
     "output_type": "stream",
     "text": [
      "Model: \"sequential\"\n",
      "_________________________________________________________________\n",
      " Layer (type)                Output Shape              Param #   \n",
      "=================================================================\n",
      " conv2d (Conv2D)             (None, 128, 2585, 32)     320       \n",
      "                                                                 \n",
      " max_pooling2d (MaxPooling2D  (None, 64, 1292, 32)     0         \n",
      " )                                                               \n",
      "                                                                 \n",
      " conv2d_1 (Conv2D)           (None, 64, 1292, 64)      18496     \n",
      "                                                                 \n",
      " max_pooling2d_1 (MaxPooling  (None, 32, 646, 64)      0         \n",
      " 2D)                                                             \n",
      "                                                                 \n",
      " conv2d_2 (Conv2D)           (None, 32, 646, 128)      73856     \n",
      "                                                                 \n",
      " max_pooling2d_2 (MaxPooling  (None, 16, 323, 128)     0         \n",
      " 2D)                                                             \n",
      "                                                                 \n",
      " conv2d_3 (Conv2D)           (None, 16, 323, 256)      295168    \n",
      "                                                                 \n",
      " global_max_pooling2d (Globa  (None, 256)              0         \n",
      " lMaxPooling2D)                                                  \n",
      "                                                                 \n",
      " dense (Dense)               (None, 256)               65792     \n",
      "                                                                 \n",
      " dense_1 (Dense)             (None, 128)               32896     \n",
      "                                                                 \n",
      "=================================================================\n",
      "Total params: 486,528\n",
      "Trainable params: 486,528\n",
      "Non-trainable params: 0\n",
      "_________________________________________________________________\n"
     ]
    }
   ],
   "source": [
    "# here we pop the last layer off the model to try and do cosine simalarity to classify if two voiceses are the same or not\n",
    "# after being ran through the model\n",
    "model.pop()\n",
    "model.summary()"
   ]
  },
  {
   "cell_type": "code",
   "execution_count": 5,
   "metadata": {
    "execution": {
     "iopub.execute_input": "2023-03-30T13:12:24.803909Z",
     "iopub.status.busy": "2023-03-30T13:12:24.803479Z",
     "iopub.status.idle": "2023-03-30T13:12:24.808936Z",
     "shell.execute_reply": "2023-03-30T13:12:24.807639Z",
     "shell.execute_reply.started": "2023-03-30T13:12:24.803872Z"
    }
   },
   "outputs": [],
   "source": [
    "temp = ['/kaggle/input/numpy-in-txt-voices/data/data/Speaker0026/Speaker26_000.txt',\n",
    "'/kaggle/input/numpy-in-txt-voices/data/data/Speaker0026/Speaker26_005.txt',\n",
    "'/kaggle/input/numpy-in-txt-voices/data/data/Speaker0029/Speaker29_004.txt']"
   ]
  },
  {
   "cell_type": "code",
   "execution_count": 11,
   "metadata": {
    "execution": {
     "iopub.execute_input": "2023-03-30T13:14:02.439222Z",
     "iopub.status.busy": "2023-03-30T13:14:02.438472Z",
     "iopub.status.idle": "2023-03-30T13:14:03.462002Z",
     "shell.execute_reply": "2023-03-30T13:14:03.460547Z",
     "shell.execute_reply.started": "2023-03-30T13:14:02.439184Z"
    }
   },
   "outputs": [
    {
     "name": "stdout",
     "output_type": "stream",
     "text": [
      "1/1 [==============================] - 0s 29ms/step\n"
     ]
    },
    {
     "data": {
      "text/plain": [
       "(3, 128)"
      ]
     },
     "execution_count": 11,
     "metadata": {},
     "output_type": "execute_result"
    }
   ],
   "source": [
    "xx = load_data(temp,val=True)\n",
    "xx = model.predict(xx)\n",
    "xx.shape"
   ]
  },
  {
   "cell_type": "code",
   "execution_count": 22,
   "metadata": {
    "execution": {
     "iopub.execute_input": "2023-03-30T13:24:41.805421Z",
     "iopub.status.busy": "2023-03-30T13:24:41.804837Z",
     "iopub.status.idle": "2023-03-30T13:24:41.814553Z",
     "shell.execute_reply": "2023-03-30T13:24:41.813277Z",
     "shell.execute_reply.started": "2023-03-30T13:24:41.805383Z"
    }
   },
   "outputs": [
    {
     "name": "stdout",
     "output_type": "stream",
     "text": [
      "0 1 [[0.973052]]\n",
      "0 2 [[-0.325133]]\n",
      "1 2 [[-0.404859]]\n"
     ]
    }
   ],
   "source": [
    "# doing cosin sim for 3 files. files 0 and 1 are the same and as we can see we get a large score for that and negative for the others\n",
    "from sklearn.metrics.pairwise import cosine_similarity\n",
    "\n",
    "for i in range(xx.shape[0]-1):\n",
    "    \n",
    "    t = xx[i]\n",
    "    t = t[np.newaxis,:]\n",
    "    \n",
    "    for j in range(i,xx.shape[0]-1):\n",
    "        tt = xx[j+1]\n",
    "        tt = tt[np.newaxis,:]\n",
    "        print(i,j+1,cosine_similarity(t,tt))"
   ]
  },
  {
   "cell_type": "code",
   "execution_count": null,
   "metadata": {},
   "outputs": [],
   "source": []
  },
  {
   "cell_type": "code",
   "execution_count": 7,
   "metadata": {
    "execution": {
     "iopub.execute_input": "2023-03-30T13:12:55.693613Z",
     "iopub.status.busy": "2023-03-30T13:12:55.693225Z",
     "iopub.status.idle": "2023-03-30T13:12:56.243202Z",
     "shell.execute_reply": "2023-03-30T13:12:56.241969Z",
     "shell.execute_reply.started": "2023-03-30T13:12:55.693582Z"
    }
   },
   "outputs": [
    {
     "name": "stdout",
     "output_type": "stream",
     "text": [
      "50\n"
     ]
    },
    {
     "data": {
      "text/plain": [
       "OneHotEncoder(handle_unknown='ignore')"
      ]
     },
     "execution_count": 7,
     "metadata": {},
     "output_type": "execute_result"
    }
   ],
   "source": [
    "from sklearn.preprocessing import OneHotEncoder\n",
    "labels = os.listdir('/kaggle/input/numpy-in-txt-voices/data/data')\n",
    "\n",
    "    \n",
    "\n",
    "print(len((np.unique(labels))))\n",
    "enc = OneHotEncoder(handle_unknown='ignore')\n",
    "enc.fit(np.array(labels).reshape(-1, 1))\n",
    "\n"
   ]
  },
  {
   "cell_type": "code",
   "execution_count": 4,
   "metadata": {
    "execution": {
     "iopub.execute_input": "2023-03-29T18:53:22.289479Z",
     "iopub.status.busy": "2023-03-29T18:53:22.288479Z",
     "iopub.status.idle": "2023-03-29T18:53:22.662320Z",
     "shell.execute_reply": "2023-03-29T18:53:22.658555Z",
     "shell.execute_reply.started": "2023-03-29T18:53:22.289447Z"
    }
   },
   "outputs": [
    {
     "data": {
      "text/plain": [
       "['/kaggle/input/numpy-in-txt-voices/data/data/Speaker0043/Speaker0043_018.txt',\n",
       " '/kaggle/input/numpy-in-txt-voices/data/data/Speaker0043/Speaker0043_028.txt',\n",
       " '/kaggle/input/numpy-in-txt-voices/data/data/Speaker0043/Speaker0043_012.txt',\n",
       " '/kaggle/input/numpy-in-txt-voices/data/data/Speaker0043/Speaker0043_005.txt',\n",
       " '/kaggle/input/numpy-in-txt-voices/data/data/Speaker0043/Speaker0043_025.txt']"
      ]
     },
     "execution_count": 4,
     "metadata": {},
     "output_type": "execute_result"
    }
   ],
   "source": [
    "# getting paths and ids for training\n",
    "finalids = []\n",
    "startpath = '/kaggle/input/numpy-in-txt-voices/data/data'\n",
    "for i in os.listdir(startpath):\n",
    "    midpath = os.path.join(startpath,i)\n",
    "    for j in os.listdir(midpath):\n",
    "        finalpath = os.path.join(midpath,j)\n",
    "        finalids.append(finalpath)\n",
    "finalids[:5]"
   ]
  },
  {
   "cell_type": "code",
   "execution_count": 5,
   "metadata": {
    "execution": {
     "iopub.execute_input": "2023-03-29T18:53:22.666890Z",
     "iopub.status.busy": "2023-03-29T18:53:22.666586Z",
     "iopub.status.idle": "2023-03-29T18:53:22.924914Z",
     "shell.execute_reply": "2023-03-29T18:53:22.923851Z",
     "shell.execute_reply.started": "2023-03-29T18:53:22.666861Z"
    }
   },
   "outputs": [],
   "source": [
    "# doing a train test split\n",
    "from sklearn.model_selection import train_test_split\n",
    "\n",
    "xtrain, ytrain = train_test_split(finalids,test_size=0.3,random_state=42)\n"
   ]
  },
  {
   "cell_type": "code",
   "execution_count": 6,
   "metadata": {
    "execution": {
     "iopub.execute_input": "2023-03-29T18:53:22.926742Z",
     "iopub.status.busy": "2023-03-29T18:53:22.926339Z",
     "iopub.status.idle": "2023-03-29T18:53:22.936773Z",
     "shell.execute_reply": "2023-03-29T18:53:22.935142Z",
     "shell.execute_reply.started": "2023-03-29T18:53:22.926701Z"
    }
   },
   "outputs": [
    {
     "data": {
      "text/plain": [
       "(1757, 754)"
      ]
     },
     "execution_count": 6,
     "metadata": {},
     "output_type": "execute_result"
    }
   ],
   "source": [
    "len(xtrain),len(ytrain)"
   ]
  },
  {
   "cell_type": "code",
   "execution_count": 4,
   "metadata": {
    "execution": {
     "iopub.execute_input": "2023-03-30T13:11:38.519390Z",
     "iopub.status.busy": "2023-03-30T13:11:38.518937Z",
     "iopub.status.idle": "2023-03-30T13:11:38.528598Z",
     "shell.execute_reply": "2023-03-30T13:11:38.526987Z",
     "shell.execute_reply.started": "2023-03-30T13:11:38.519354Z"
    }
   },
   "outputs": [],
   "source": [
    "# loading the data\n",
    "def load_data(ids,val =False):\n",
    "    X = []\n",
    "    Y = []\n",
    "\n",
    "    for i in ids:\n",
    "      # read one or more samples from your storage, do pre-processing, etc.\n",
    "      # for example:\n",
    "        x = np.loadtxt(i)\n",
    "        x=x[:,:,np.newaxis]\n",
    "        label = i.split('/')[-2]\n",
    "       \n",
    "        y = enc.transform(np.array(label).reshape(-1, 1)).toarray()\n",
    "        \n",
    "        \n",
    "        X.append(x)\n",
    "        Y.append(y[0])\n",
    "    if val:\n",
    "        return(np.array(X))\n",
    "    else:\n",
    "        return np.array(X), np.array(Y)"
   ]
  },
  {
   "cell_type": "code",
   "execution_count": 8,
   "metadata": {
    "execution": {
     "iopub.execute_input": "2023-03-29T18:53:22.951242Z",
     "iopub.status.busy": "2023-03-29T18:53:22.950795Z",
     "iopub.status.idle": "2023-03-29T18:53:22.964053Z",
     "shell.execute_reply": "2023-03-29T18:53:22.962982Z",
     "shell.execute_reply.started": "2023-03-29T18:53:22.951202Z"
    }
   },
   "outputs": [],
   "source": [
    "# generates batches for the data\n",
    "bat = 2\n",
    "def batch_generator(ids, batch_size = bat,val =False):\n",
    "    batch=[]\n",
    "    while True:\n",
    "            if not val:\n",
    "                np.random.shuffle(ids) \n",
    "            for i in ids:\n",
    "                #print(i)\n",
    "                batch.append(i)\n",
    "                if len(batch)==batch_size:\n",
    "                    yield load_data(batch,val)\n",
    "                    batch=[]"
   ]
  },
  {
   "cell_type": "code",
   "execution_count": 21,
   "metadata": {
    "execution": {
     "iopub.execute_input": "2023-03-29T20:06:08.259491Z",
     "iopub.status.busy": "2023-03-29T20:06:08.258675Z",
     "iopub.status.idle": "2023-03-29T20:06:08.264576Z",
     "shell.execute_reply": "2023-03-29T20:06:08.263181Z",
     "shell.execute_reply.started": "2023-03-29T20:06:08.259452Z"
    }
   },
   "outputs": [],
   "source": [
    "\n",
    "train_gen = batch_generator(xtrain,bat)\n",
    "valdata_gen= batch_generator(ytrain,bat)\n",
    "val_gen = batch_generator(ytrain,bat,val = True)"
   ]
  },
  {
   "cell_type": "code",
   "execution_count": null,
   "metadata": {},
   "outputs": [],
   "source": []
  },
  {
   "cell_type": "code",
   "execution_count": 10,
   "metadata": {
    "execution": {
     "iopub.execute_input": "2023-03-29T18:53:22.977073Z",
     "iopub.status.busy": "2023-03-29T18:53:22.976362Z",
     "iopub.status.idle": "2023-03-29T18:58:45.978916Z",
     "shell.execute_reply": "2023-03-29T18:58:45.977705Z",
     "shell.execute_reply.started": "2023-03-29T18:53:22.977035Z"
    }
   },
   "outputs": [
    {
     "name": "stdout",
     "output_type": "stream",
     "text": [
      "377/377 [==============================] - 263s 679ms/step\n"
     ]
    }
   ],
   "source": [
    "preds = model.predict(val_gen,steps = int(np.ceil(len(ytrain)/2)))\n",
    "\n"
   ]
  },
  {
   "cell_type": "code",
   "execution_count": null,
   "metadata": {},
   "outputs": [],
   "source": []
  },
  {
   "cell_type": "code",
   "execution_count": null,
   "metadata": {},
   "outputs": [],
   "source": []
  },
  {
   "cell_type": "code",
   "execution_count": null,
   "metadata": {},
   "outputs": [],
   "source": []
  },
  {
   "cell_type": "code",
   "execution_count": 16,
   "metadata": {
    "execution": {
     "iopub.execute_input": "2023-03-29T18:59:31.144232Z",
     "iopub.status.busy": "2023-03-29T18:59:31.143837Z",
     "iopub.status.idle": "2023-03-29T18:59:31.152234Z",
     "shell.execute_reply": "2023-03-29T18:59:31.151017Z",
     "shell.execute_reply.started": "2023-03-29T18:59:31.144195Z"
    }
   },
   "outputs": [
    {
     "data": {
      "text/plain": [
       "'\\nmodel = keras.Sequential()\\nmodel.add(layers.Input((128,2585,1)))\\nmodel.add(layers.Conv2D(32, 3, activation=\\'relu\\', padding=\"same\"))\\nmodel.add(layers.MaxPool2D(2))\\nmodel.add(layers.Conv2D(64, 3, activation=\\'relu\\', padding=\"same\"))\\nmodel.add(layers.MaxPool2D(2))\\nmodel.add(layers.Conv2D(128, 3, activation=\\'relu\\', padding=\"same\"))\\nmodel.add(layers.MaxPool2D(2))\\nmodel.add(layers.Conv2D(256, 3, activation=\\'relu\\', padding=\"same\"))\\nmodel.add(layers.GlobalMaxPooling2D())\\nmodel.add(layers.Dense(256))\\nmodel.add(layers.Dense(128))\\nmodel.add(layers.Dense(50,activation = \\'sigmoid\\'))\\nmodel.summary()'"
      ]
     },
     "execution_count": 16,
     "metadata": {},
     "output_type": "execute_result"
    }
   ],
   "source": [
    "import tensorflow as tf\n",
    "from tensorflow import keras\n",
    "from tensorflow.keras import layers\n",
    "'''\n",
    "model = keras.Sequential()\n",
    "model.add(layers.Input((128,2585,1)))\n",
    "model.add(layers.Conv2D(32, 3, activation='relu', padding=\"same\"))\n",
    "model.add(layers.MaxPool2D(2))\n",
    "model.add(layers.Conv2D(64, 3, activation='relu', padding=\"same\"))\n",
    "model.add(layers.MaxPool2D(2))\n",
    "model.add(layers.Conv2D(128, 3, activation='relu', padding=\"same\"))\n",
    "model.add(layers.MaxPool2D(2))\n",
    "model.add(layers.Conv2D(256, 3, activation='relu', padding=\"same\"))\n",
    "model.add(layers.GlobalMaxPooling2D())\n",
    "model.add(layers.Dense(256))\n",
    "model.add(layers.Dense(128))\n",
    "model.add(layers.Dense(50,activation = 'sigmoid'))\n",
    "model.summary()'''"
   ]
  },
  {
   "cell_type": "code",
   "execution_count": 121,
   "metadata": {
    "execution": {
     "iopub.execute_input": "2023-03-28T20:40:48.438338Z",
     "iopub.status.busy": "2023-03-28T20:40:48.437915Z",
     "iopub.status.idle": "2023-03-28T20:40:48.455229Z",
     "shell.execute_reply": "2023-03-28T20:40:48.454309Z",
     "shell.execute_reply.started": "2023-03-28T20:40:48.438300Z"
    }
   },
   "outputs": [],
   "source": [
    "model.compile(optimizer='adam', loss='categorical_crossentropy', metrics=['accuracy'])"
   ]
  },
  {
   "cell_type": "code",
   "execution_count": 22,
   "metadata": {
    "execution": {
     "iopub.execute_input": "2023-03-29T20:06:15.453209Z",
     "iopub.status.busy": "2023-03-29T20:06:15.452811Z",
     "iopub.status.idle": "2023-03-29T20:51:42.957266Z",
     "shell.execute_reply": "2023-03-29T20:51:42.955058Z",
     "shell.execute_reply.started": "2023-03-29T20:06:15.453174Z"
    }
   },
   "outputs": [
    {
     "name": "stdout",
     "output_type": "stream",
     "text": [
      "Epoch 1/3\n",
      "879/879 [==============================] - 933s 1s/step - loss: 0.3582 - accuracy: 0.8891 - val_loss: 0.3288 - val_accuracy: 0.8899\n",
      "Epoch 2/3\n",
      "879/879 [==============================] - 864s 984ms/step - loss: 0.3690 - accuracy: 0.8936 - val_loss: 0.4501 - val_accuracy: 0.8554\n",
      "Epoch 3/3\n",
      "879/879 [==============================] - 930s 1s/step - loss: 0.2267 - accuracy: 0.9300 - val_loss: 0.1379 - val_accuracy: 0.9403\n"
     ]
    },
    {
     "data": {
      "text/plain": [
       "<keras.callbacks.History at 0x7fd8986c9ed0>"
      ]
     },
     "execution_count": 22,
     "metadata": {},
     "output_type": "execute_result"
    }
   ],
   "source": [
    "model.fit(train_gen,epochs=3, steps_per_epoch = int( np.ceil(len(xtrain) / bat)),validation_data = valdata_gen,validation_steps=int( np.ceil(len(ytrain) / bat) ))"
   ]
  },
  {
   "cell_type": "code",
   "execution_count": 30,
   "metadata": {
    "execution": {
     "iopub.execute_input": "2023-03-29T20:57:39.616480Z",
     "iopub.status.busy": "2023-03-29T20:57:39.615444Z",
     "iopub.status.idle": "2023-03-29T20:57:39.670382Z",
     "shell.execute_reply": "2023-03-29T20:57:39.669363Z",
     "shell.execute_reply.started": "2023-03-29T20:57:39.616439Z"
    }
   },
   "outputs": [],
   "source": [
    "model.save('voice-modelstest',save_format = \"h5\")"
   ]
  },
  {
   "cell_type": "code",
   "execution_count": 33,
   "metadata": {
    "execution": {
     "iopub.execute_input": "2023-03-29T21:01:19.220759Z",
     "iopub.status.busy": "2023-03-29T21:01:19.220222Z",
     "iopub.status.idle": "2023-03-29T21:01:19.230125Z",
     "shell.execute_reply": "2023-03-29T21:01:19.228612Z",
     "shell.execute_reply.started": "2023-03-29T21:01:19.220717Z"
    }
   },
   "outputs": [
    {
     "data": {
      "text/plain": [
       "['.virtual_documents',\n",
       " 'voice-models',\n",
       " '__notebook_source__.ipynb',\n",
       " 'voice-modelstest']"
      ]
     },
     "execution_count": 33,
     "metadata": {},
     "output_type": "execute_result"
    }
   ],
   "source": [
    "os.listdir('/kaggle/working')"
   ]
  },
  {
   "cell_type": "code",
   "execution_count": 32,
   "metadata": {
    "execution": {
     "iopub.execute_input": "2023-03-29T21:01:10.902071Z",
     "iopub.status.busy": "2023-03-29T21:01:10.901212Z",
     "iopub.status.idle": "2023-03-29T21:01:10.909676Z",
     "shell.execute_reply": "2023-03-29T21:01:10.908194Z",
     "shell.execute_reply.started": "2023-03-29T21:01:10.902033Z"
    }
   },
   "outputs": [
    {
     "data": {
      "text/html": [
       "Path (<tt>/kaggle/working/voice-modelstest.h5</tt>) doesn't exist. It may still be in the process of being generated, or you may have the incorrect path."
      ],
      "text/plain": [
       "/kaggle/working/voice-modelstest.h5"
      ]
     },
     "execution_count": 32,
     "metadata": {},
     "output_type": "execute_result"
    }
   ],
   "source": [
    "from IPython.display import FileLink\n",
    "FileLink(r'/kaggle/working/voice-modelstest.h5')"
   ]
  }
 ],
 "metadata": {
  "kernelspec": {
   "display_name": "Python 3 (ipykernel)",
   "language": "python",
   "name": "python3"
  },
  "language_info": {
   "codemirror_mode": {
    "name": "ipython",
    "version": 3
   },
   "file_extension": ".py",
   "mimetype": "text/x-python",
   "name": "python",
   "nbconvert_exporter": "python",
   "pygments_lexer": "ipython3",
   "version": "3.9.2rc1"
  }
 },
 "nbformat": 4,
 "nbformat_minor": 4
}
